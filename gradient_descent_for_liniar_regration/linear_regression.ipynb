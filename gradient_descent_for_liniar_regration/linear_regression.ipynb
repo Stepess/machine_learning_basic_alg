{
 "cells": [
  {
   "cell_type": "code",
   "execution_count": 2,
   "metadata": {
    "scrolled": true
   },
   "outputs": [],
   "source": [
    "import numpy as np\n",
    "import matplotlib.pyplot as plt"
   ]
  },
  {
   "cell_type": "code",
   "execution_count": 1,
   "metadata": {},
   "outputs": [],
   "source": [
    "def lost_function(a, b, x_arr, y_arr):\n",
    "    \"\"\"\n",
    "    calculates lost function based as sum of squared errors\n",
    "    we need to minimize the \"sum of squared errors\"\n",
    "    this is to see how far we from correct value\n",
    "    :return: total error\n",
    "    \"\"\"\n",
    "    return np.sum((y_arr - (a * x_arr + b)) ** 2) / float(len(x_arr))\n",
    "\n",
    "\n",
    "def step_gradient(a_current, b_current, x_arr, y_arr, learning_rate):\n",
    "    \"\"\"\n",
    "    on step of gradient descent\n",
    "    :return: new value of a and b\n",
    "    \"\"\"\n",
    "    num_of_points = float(len(x_arr))\n",
    "\n",
    "    # Partial derivative of lost function by a\n",
    "    a_gradient = np.sum(-(2 / num_of_points) * x_arr * (y_arr - (a_current * x_arr + b_current)))\n",
    "    # Partial derivative of lost function by b\n",
    "    b_gradient = np.sum(-(2 / num_of_points) * (y_arr - (a_current * x_arr + b_current)))\n",
    "\n",
    "    # Minus because we actually need move in direction of antigradient (- grad) to minimize lost function\n",
    "    new_a = a_current - (learning_rate * a_gradient)\n",
    "    new_b = b_current - (learning_rate * b_gradient)\n",
    "\n",
    "    return [new_a, new_b]\n",
    "\n",
    "\n",
    "def gradient_descent_runner(x_arr, y_arr, starting_a, starting_b, learning_rate, num_iterations):\n",
    "    a = starting_a\n",
    "    b = starting_b\n",
    "\n",
    "    for i in range(num_iterations):\n",
    "        a, b = step_gradient(a, b, x_arr, y_arr, learning_rate)\n",
    "\n",
    "    return [a, b]"
   ]
  },
  {
   "cell_type": "code",
   "execution_count": 3,
   "metadata": {},
   "outputs": [],
   "source": [
    "# init sample\n",
    "sample_size = 100\n",
    "\n",
    "x_sample = np.random.rand(sample_size)\n",
    "\n",
    "a_real = 2.5\n",
    "b_real = 1.6\n",
    "\n",
    "noise_arr = np.random.random_sample(sample_size)\n",
    "y_sample = a_real * x_sample + b_real + noise_arr"
   ]
  },
  {
   "cell_type": "code",
   "execution_count": 4,
   "metadata": {},
   "outputs": [
    {
     "data": {
      "image/png": "[encoded data removed]",
      "text/plain": [
       "<Figure size 432x288 with 1 Axes>"
      ]
     },
     "metadata": {
      "needs_background": "light"
     },
     "output_type": "display_data"
    }
   ],
   "source": [
    "plt.plot(x_sample, y_sample, 'ro')\n",
    "plt.show()"
   ]
  },
  {
   "cell_type": "code",
   "execution_count": 5,
   "metadata": {},
   "outputs": [],
   "source": [
    " # hyperparameters\n",
    "lr = 0.01  # how fast the data converge\n",
    "\n",
    "# initial guesses\n",
    "initial_a = 0\n",
    "initial_b = 0\n",
    "\n",
    "iter_num = 10000"
   ]
  },
  {
   "cell_type": "code",
   "execution_count": 6,
   "metadata": {},
   "outputs": [],
   "source": [
    "[a_found, b_found] = gradient_descent_runner(x_sample, y_sample, initial_a, initial_b, lr, iter_num)"
   ]
  },
  {
   "cell_type": "code",
   "execution_count": 8,
   "metadata": {},
   "outputs": [
    {
     "data": {
      "text/plain": [
       "'After 10000 iterations a = 2.4939781897468274, b = 2.079811537824962, error = 0.09412376540455357'"
      ]
     },
     "execution_count": 8,
     "metadata": {},
     "output_type": "execute_result"
    }
   ],
   "source": [
    "\"After {0} iterations a = {1}, b = {2}, error = {3}\".format(iter_num, a_found, b_found,\n",
    "                  lost_function(a_found, b_found, x_sample, y_sample))"
   ]
  },
  {
   "cell_type": "code",
   "execution_count": 9,
   "metadata": {},
   "outputs": [
    {
     "data": {
      "image/png": "[encoded data removed]",
      "text/plain": [
       "<Figure size 432x288 with 1 Axes>"
      ]
     },
     "metadata": {
      "needs_background": "light"
     },
     "output_type": "display_data"
    }
   ],
   "source": [
    "plt.plot(x_sample, y_sample, 'ro')\n",
    "y_predicted = a_found * x_sample + b_found\n",
    "plt.plot(x_sample, y_predicted)\n",
    "plt.show()"
   ]
  },
  {
   "cell_type": "code",
   "execution_count": null,
   "metadata": {},
   "outputs": [],
   "source": []
  }
 ],
 "metadata": {
  "kernelspec": {
   "display_name": "Python 3",
   "language": "python",
   "name": "python3"
  },
  "language_info": {
   "codemirror_mode": {
    "name": "ipython",
    "version": 3
   },
   "file_extension": ".py",
   "mimetype": "text/x-python",
   "name": "python",
   "nbconvert_exporter": "python",
   "pygments_lexer": "ipython3",
   "version": "3.6.8"
  }
 },
 "nbformat": 4,
 "nbformat_minor": 2
}
