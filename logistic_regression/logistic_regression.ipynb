{
 "cells": [
  {
   "cell_type": "code",
   "execution_count": 1,
   "metadata": {},
   "outputs": [],
   "source": [
    "import numpy as np\n",
    "import matplotlib.pyplot as plt\n",
    "from sklearn import *"
   ]
  },
  {
   "cell_type": "code",
   "execution_count": 2,
   "metadata": {},
   "outputs": [],
   "source": [
    "class LogisticRegression:\n",
    "    def __init__(self, lr=0.01, num_iter=100000, fit_intercept=True, verbose=False):\n",
    "        self.lr = lr\n",
    "        self.num_iter = num_iter\n",
    "        self.fit_intercept = fit_intercept\n",
    "        self.verbose = verbose\n",
    "\n",
    "    def __add_intercept(self, train_data):\n",
    "        intercept = np.ones((train_data.shape[0], 1))\n",
    "        return np.concatenate((intercept, train_data), axis=1)\n",
    "\n",
    "    def __sigmoid(self, z):\n",
    "        return 1 / (1 + np.exp(-z))\n",
    "\n",
    "    def __loss(self, h, class_values):\n",
    "        \"\"\"\n",
    "        likelihood function\n",
    "        :param h: hypothesis\n",
    "        :param class_values: actual value\n",
    "        :return:\n",
    "        \"\"\"\n",
    "        return (-class_values * np.log(h) - (1 - class_values) * np.log(1 - h)).mean()\n",
    "\n",
    "    def fit(self, attr, class_values):\n",
    "        if self.fit_intercept:\n",
    "            attr = self.__add_intercept(attr)\n",
    "\n",
    "        # weights initialization\n",
    "        self.theta = np.zeros(attr.shape[1])\n",
    "\n",
    "        for i in range(self.num_iter):\n",
    "            z = np.dot(attr, self.theta)\n",
    "            h = self.__sigmoid(z)\n",
    "            gradient = np.dot(attr.T, (h - class_values)) / class_values.size\n",
    "            self.theta -= self.lr * gradient\n",
    "\n",
    "            z = np.dot(attr, self.theta)\n",
    "            h = self.__sigmoid(z)\n",
    "            loss = self.__loss(h, class_values)\n",
    "\n",
    "            if (self.verbose == True and i % 10000 == 0):\n",
    "                print(f'loss: {loss} \\t')\n",
    "\n",
    "    def predict_prob(self, attr):\n",
    "        if self.fit_intercept:\n",
    "            attr = self.__add_intercept(attr)\n",
    "\n",
    "        return self.__sigmoid(np.dot(attr, self.theta))\n",
    "\n",
    "    def predict(self, attr):\n",
    "        return self.predict_prob(attr).round()"
   ]
  },
  {
   "cell_type": "code",
   "execution_count": 3,
   "metadata": {},
   "outputs": [
    {
     "data": {
      "image/png": "[encoded data removed]",
      "text/plain": [
       "<Figure size 720x432 with 1 Axes>"
      ]
     },
     "metadata": {
      "needs_background": "light"
     },
     "output_type": "display_data"
    }
   ],
   "source": [
    "iris = datasets.load_iris()\n",
    "X = iris.data[:, :2]\n",
    "y = (iris.target != 0) * 1\n",
    "\n",
    "plt.figure(figsize=(10, 6))\n",
    "plt.scatter(X[y == 0][:, 0], X[y == 0][:, 1], color='b', label='0')\n",
    "plt.scatter(X[y == 1][:, 0], X[y == 1][:, 1], color='r', label='1')\n",
    "plt.legend()\n",
    "plt.show()"
   ]
  },
  {
   "cell_type": "code",
   "execution_count": 4,
   "metadata": {},
   "outputs": [],
   "source": [
    "features_num = X.shape[0]\n",
    "\n",
    "test_p = 20\n",
    "\n",
    "test_index = int(features_num - (test_p * features_num) / 100)\n",
    "\n",
    "data = np.c_[X, y]\n",
    "np.random.shuffle(data)\n",
    "\n",
    "train_x = data[:test_index, :2]\n",
    "train_y = data[:test_index, 2]\n",
    "\n",
    "test_x = data[test_index:, :2]\n",
    "test_y = data[test_index:, 2]"
   ]
  },
  {
   "cell_type": "code",
   "execution_count": 8,
   "metadata": {},
   "outputs": [
    {
     "name": "stdout",
     "output_type": "stream",
     "text": [
      "Training...\n",
      "Model params is [ -7.11864292   7.1106236  -10.0849507 ]\n"
     ]
    }
   ],
   "source": [
    "model = LogisticRegression(lr=0.1, num_iter=30000)\n",
    "\n",
    "print('Training...')\n",
    "model.fit(train_x, train_y)\n",
    "\n",
    "print('Model params is {0}'.format(model.theta))"
   ]
  },
  {
   "cell_type": "code",
   "execution_count": 9,
   "metadata": {},
   "outputs": [
    {
     "name": "stdout",
     "output_type": "stream",
     "text": [
      "Predicting...\n",
      "[1. 0. 1. 0. 0. 0. 1. 0. 1. 0. 1. 0. 1. 0. 1. 1. 1. 0. 1. 0. 1. 1. 1. 0.\n",
      " 1. 1. 0. 0. 0. 0.]\n"
     ]
    }
   ],
   "source": [
    "print('Predicting...')\n",
    "preds = model.predict(test_x)\n",
    "print(preds)"
   ]
  },
  {
   "cell_type": "code",
   "execution_count": 10,
   "metadata": {},
   "outputs": [
    {
     "name": "stdout",
     "output_type": "stream",
     "text": [
      "Accuracy is 100.0%\n"
     ]
    }
   ],
   "source": [
    "accuracy = (preds == test_y).mean()\n",
    "print('Accuracy is {0}%'.format(accuracy * 100))"
   ]
  },
  {
   "cell_type": "code",
   "execution_count": null,
   "metadata": {},
   "outputs": [],
   "source": []
  }
 ],
 "metadata": {
  "kernelspec": {
   "display_name": "Python 3",
   "language": "python",
   "name": "python3"
  },
  "language_info": {
   "codemirror_mode": {
    "name": "ipython",
    "version": 3
   },
   "file_extension": ".py",
   "mimetype": "text/x-python",
   "name": "python",
   "nbconvert_exporter": "python",
   "pygments_lexer": "ipython3",
   "version": "3.6.8"
  }
 },
 "nbformat": 4,
 "nbformat_minor": 2
}
